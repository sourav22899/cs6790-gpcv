{
 "cells": [
  {
   "cell_type": "code",
   "execution_count": 1,
   "metadata": {},
   "outputs": [],
   "source": [
    "import cv2\n",
    "import numpy as np\n",
    "from glob import glob\n",
    "np.set_printoptions(suppress=True, formatter={'float_kind':'{:f}'.format})\n",
    "\n",
    "from config import *\n",
    "from utils import *"
   ]
  },
  {
   "cell_type": "code",
   "execution_count": 2,
   "metadata": {},
   "outputs": [],
   "source": [
    "def build_k_matrix(kkt,resize_f=8):\n",
    "    k = np.zeros((3,3))\n",
    "    k[:,-1] = kkt[:,-1]\n",
    "    k[1,1] = np.sqrt(kkt[1,1]-kkt[1,2]**2)\n",
    "    k[0,1] = (kkt[0,1] - kkt[0,2]*kkt[1,2])/k[1,1]\n",
    "    k[0,0] = np.sqrt(kkt[0,0]-k[0,1]**2-kkt[0,2]**2)\n",
    "    k = k*resize_f;k[-1,-1] = 1\n",
    "    return k\n"
   ]
  },
  {
   "cell_type": "code",
   "execution_count": 3,
   "metadata": {},
   "outputs": [],
   "source": [
    "files = sorted(glob('*.jpg'))\n",
    "COORDS = np.asarray(COORDS,dtype=np.int32)"
   ]
  },
  {
   "cell_type": "code",
   "execution_count": 4,
   "metadata": {},
   "outputs": [
    {
     "data": {
      "text/plain": [
       "array([[[2896, 1672],\n",
       "        [3296, 1792],\n",
       "        [2808, 1848],\n",
       "        [3232, 1968]],\n",
       "\n",
       "       [[2600, 1896],\n",
       "        [3000, 1784],\n",
       "        [2776, 2088],\n",
       "        [3192, 1976]],\n",
       "\n",
       "       [[3168, 2200],\n",
       "        [3648, 2192],\n",
       "        [3152, 2352],\n",
       "        [3648, 2344]],\n",
       "\n",
       "       [[2728, 2208],\n",
       "        [3232, 2216],\n",
       "        [2768, 2504],\n",
       "        [3288, 2512]],\n",
       "\n",
       "       [[2712, 1688],\n",
       "        [3088, 1776],\n",
       "        [2456, 1776],\n",
       "        [2824, 2256]]], dtype=int32)"
      ]
     },
     "execution_count": 4,
     "metadata": {},
     "output_type": "execute_result"
    }
   ],
   "source": [
    "COORDS"
   ]
  },
  {
   "cell_type": "code",
   "execution_count": 5,
   "metadata": {},
   "outputs": [
    {
     "name": "stdout",
     "output_type": "stream",
     "text": [
      "[14727.111111 5221.333333 1.000000] [4522.666667 -1581.333333 1.000000] [-0.000145 0.000218 1.000000]\n",
      "[-19628.571429 8120.000000 1.000000] [-3032.000000 -4248.000000 1.000000] [0.000115 0.000154 1.000000]\n",
      "[-279072.000000 6904.000000 1.000000] [3648.000000 -2360.000000 1.000000] [0.000015 0.000446 1.000000]\n",
      "[607528.000000 11808.000000 1.000000] [1471.783784 -7088.000000 1.000000] [-0.000004 0.000140 1.000000]\n",
      "[2317.801210 1595.740709 1.000000] [3235.344894 1508.100193 1.000000] [-0.000053 -0.000550 1.000000]\n",
      "w:\n",
      "[[-0.000000 0.000000 0.000010]\n",
      " [0.000000 -0.000000 -0.000326]\n",
      " [0.000010 -0.000326 1.000000]]\n",
      "k:\n",
      "[[nan nan -6474.038179]\n",
      " [0.000000 nan -20530.222852]\n",
      " [0.000000 0.000000 1.000000]]\n"
     ]
    },
    {
     "name": "stderr",
     "output_type": "stream",
     "text": [
      "/opt/anaconda3/envs/py36/lib/python3.6/site-packages/ipykernel_launcher.py:4: RuntimeWarning: invalid value encountered in sqrt\n",
      "  after removing the cwd from sys.path.\n"
     ]
    }
   ],
   "source": [
    "# Checkerboard pattern, vanishing points, full K matrix\n",
    "\n",
    "A = np.zeros((5,6))\n",
    "for k,file in enumerate(files):\n",
    "    if k < 5:\n",
    "        coords = COORDS[k]\n",
    "        p1,p2,l_inf = find_l_infinity(coords)\n",
    "        print(p1,p2,l_inf)\n",
    "        A[k] = np.asarray([p1[0]*p2[0],p1[1]*p2[1],1,p1[0]*p2[1]+p1[1]*p2[0],p1[0]+p2[0],p1[1]+p2[1]])\n",
    "\n",
    "_,_,vh = np.linalg.svd(A)\n",
    "x = vh.T[:,-1]\n",
    "w = np.asarray([[x[0],x[3],x[4]],[x[3],x[1],x[5]],[x[4],x[5],x[2]]])\n",
    "print('w:')\n",
    "print(np.divide(w,w[-1,-1]))\n",
    "kkt = np.linalg.pinv(w)\n",
    "kkt = np.divide(kkt,kkt[-1,-1])\n",
    "k = build_k_matrix(kkt,resize_f=1)\n",
    "print('k:')\n",
    "print(k)"
   ]
  },
  {
   "cell_type": "code",
   "execution_count": 5,
   "metadata": {},
   "outputs": [
    {
     "name": "stdout",
     "output_type": "stream",
     "text": [
      "************************************************** [0, 1, 3] **************************************************\n",
      "[2808.666667 928.000000 1.000000] [711.909091 -425.000000 1.000000] [-0.000730 0.001131 1.000000]\n",
      "[2058.000000 -180.333333 1.000000] [-1284.000000 -1437.000000 1.000000] [-0.000394 0.001048 1.000000]\n",
      "[2761.000000 316.000000 1.000000] [637.217391 1538.608696 1.000000] [-0.000302 -0.000525 1.000000]\n",
      "w:\n",
      "[[0.000000 0.000000 -0.000450]\n",
      " [0.000000 0.000000 -0.000251]\n",
      " [-0.000450 -0.000251 1.000000]]\n",
      "k:\n",
      "[[7602.621007 0.000000 8123.138566]\n",
      " [0.000000 7602.621007 4526.067225]\n",
      " [0.000000 0.000000 1.000000]]\n"
     ]
    }
   ],
   "source": [
    "# Checkerboard pattern, vanishing points, zero skew condition\n",
    "\n",
    "from itertools import combinations \n",
    "comb = list(combinations(np.arange(5), 3))\n",
    "# file_list = np.random.choice(5,3,replace=False)\n",
    "\n",
    "comb = [[0,1,3]]\n",
    "for lists in comb:\n",
    "    A = np.zeros((3,4))\n",
    "    i = 0\n",
    "    print('*'*50, lists, '*'*50)\n",
    "    for k,file in enumerate(files):\n",
    "        if k in lists:\n",
    "            coords = COORDS[k]\n",
    "            p1,p2,l_inf = find_l_infinity(coords)\n",
    "            print(p1,p2,l_inf)\n",
    "            A[i] = np.asarray([p1[0]*p2[0]+p1[1]*p2[1],1,p1[0]+p2[0],p1[1]+p2[1]])\n",
    "            i += 1\n",
    "\n",
    "    _,_,vh = np.linalg.svd(A)\n",
    "    x = vh.T[:,-1]\n",
    "    w = np.asarray([[x[0],0,x[2]],[0,x[0],x[3]],[x[2],x[3],x[1]]])\n",
    "    print('w:')\n",
    "    print(np.divide(w,w[-1,-1]))\n",
    "    kkt = np.linalg.pinv(w)\n",
    "    kkt = np.divide(kkt,kkt[-1,-1])\n",
    "    # print(kkt)\n",
    "    # ev,_ = np.linalg.eig(kkt)\n",
    "    # # k = np.linalg.cholesky(kkt)\n",
    "    k = build_k_matrix(kkt)\n",
    "    print('k:')\n",
    "    print(k)\n"
   ]
  },
  {
   "cell_type": "code",
   "execution_count": 9,
   "metadata": {},
   "outputs": [
    {
     "data": {
      "text/plain": [
       "60.00833275470999"
      ]
     },
     "execution_count": 9,
     "metadata": {},
     "output_type": "execute_result"
    }
   ],
   "source": [
    "np.sqrt((277-337)**2+(275-276)**2)"
   ]
  },
  {
   "cell_type": "code",
   "execution_count": 13,
   "metadata": {},
   "outputs": [
    {
     "name": "stdout",
     "output_type": "stream",
     "text": [
      "h:\n",
      "[[1.132223 -0.420908 55.333512]\n",
      " [0.374093 0.251277 45.463585]\n",
      " [0.000403 -0.000591 1.000000]]\n",
      "h:\n",
      "[[1.430270 0.396602 -183.887259]\n",
      " [-0.125328 0.443861 250.065637]\n",
      " [0.000695 -0.000309 1.000000]]\n",
      "h:\n",
      "[[0.980068 -0.238056 -41.758111]\n",
      " [0.023737 0.154497 200.890760]\n",
      " [0.000027 -0.000520 1.000000]]\n",
      "w:\n",
      "[[-0.000000 -0.000007 -0.002121]\n",
      " [-0.000007 0.000010 0.013658]\n",
      " [-0.002121 0.013658 1.000000]]\n",
      "k:\n",
      "[[nan nan 1440.823262]\n",
      " [0.000000 nan -333.443822]\n",
      " [0.000000 0.000000 1.000000]]\n"
     ]
    },
    {
     "name": "stderr",
     "output_type": "stream",
     "text": [
      "/opt/anaconda3/envs/py36/lib/python3.6/site-packages/ipykernel_launcher.py:4: RuntimeWarning: invalid value encountered in sqrt\n",
      "  after removing the cwd from sys.path.\n"
     ]
    }
   ],
   "source": [
    "# Checkerboard pattern, homography, full K matrix\n",
    "\n",
    "coords_checker_board = [[[353,233],[406,248],[341,255],[396,270]],\\\n",
    "                        [[348,263],[402,249],[372,288],[426,273]],\\\n",
    "                        [[277,275],[337,276],[271,294],[333,295]]]\n",
    "#                         [[405,278],[467,279],[412,316],[472,316]],\\\n",
    "#                         [[373,154],[421,163],[340,212],[388,222]]]\n",
    "actual_coords_checker_board = [[[350,230],[405,230],[350,285],[405,285]],\\\n",
    "                               [[350,260],[405,260],[350,315],[405,315]],\\\n",
    "                               [[275,275],[335,275],[275,335],[335,335]]]\n",
    "#                                [[350,230],[405,230],[350,285],[405,285]],\\\n",
    "#                                [[350,230],[405,230],[350,285],[405,285]]]\n",
    "\n",
    "X = np.zeros((6,6))\n",
    "for i in range(len(coords_checker_board)):\n",
    "    A = np.zeros((8,9))\n",
    "    coords = coords_checker_board[i]\n",
    "    actual_coords = actual_coords_checker_board[i]\n",
    "    for j in range(len(coords)):\n",
    "        x_,y_ = coords[j][0],coords[j][1]\n",
    "        x,y = actual_coords[j][0],actual_coords[j][1]\n",
    "        A[2*j,:3] = [-x,-y,-1]\n",
    "        A[2*j,-3:] = [x*x_,y*x_,x_]\n",
    "        A[2*j+1,3:6] = [-x,-y,-1]\n",
    "        A[2*j+1,-3:] = [x*y_,y*y_,y_]\n",
    "\n",
    "    _,_,vh = np.linalg.svd(A)\n",
    "    h = vh.T[:,-1].reshape(3,3)\n",
    "    h = np.divide(h,h[-1,-1])\n",
    "    print('h:')\n",
    "    print(h)\n",
    "    h1 = h[:,0];h2 = h[:,1]\n",
    "    X[2*i] = np.asarray([h1[0]*h2[0], h1[1]*h2[1], h1[2]*h2[2], h1[0]*h2[1]+h1[1]*h2[0],\n",
    "                        h1[0]*h2[2]+h1[2]*h2[0], h1[1]*h2[2]+h1[2]*h2[1]])\n",
    "    t2 = np.asarray([h2[0]*h2[0], h2[1]*h2[1], h2[2]*h2[2], h2[0]*h2[1]+h2[1]*h2[0],\n",
    "                        h2[0]*h2[2]+h2[2]*h2[0], h2[1]*h2[2]+h2[2]*h2[1]])\n",
    "    t1 = np.asarray([h1[0]*h1[0], h1[1]*h1[1], h1[2]*h1[2], h1[0]*h1[1]+h1[1]*h1[0],\n",
    "                        h1[0]*h1[2]+h1[2]*h1[0], h1[1]*h1[2]+h1[2]*h1[1]])\n",
    "    X[2*i+1] = t1-t2\n",
    "\n",
    "_,_,vh = np.linalg.svd(X[:5])\n",
    "x = vh.T[:,-1]\n",
    "w = np.asarray([[x[0],x[3],x[4]],[x[3],x[1],x[5]],[x[4],x[5],x[2]]])\n",
    "print('w:')\n",
    "print(np.divide(w,w[-1,-1]))\n",
    "kkt = np.linalg.pinv(w)\n",
    "kkt = np.divide(kkt,kkt[-1,-1])\n",
    "print(kkt)\n",
    "k = build_k_matrix(kkt,resize_f=1)\n",
    "print('k:')\n",
    "print(k)"
   ]
  },
  {
   "cell_type": "code",
   "execution_count": 13,
   "metadata": {},
   "outputs": [
    {
     "data": {
      "text/plain": [
       "55.08175741568164"
      ]
     },
     "execution_count": 13,
     "metadata": {},
     "output_type": "execute_result"
    }
   ],
   "source": [
    "# Checkerboard pattern, homography, zero skew matrix\n",
    "np.sqrt((353-406)**2+(233-248)**2)"
   ]
  },
  {
   "cell_type": "code",
   "execution_count": 8,
   "metadata": {},
   "outputs": [
    {
     "name": "stdout",
     "output_type": "stream",
     "text": [
      "[-3507.989661 -693.510472 1.000000] [1114.704905 -687.407211 1.000000] [-0.000002 0.001452 1.000000]\n",
      "[-1188.772570 -577.158014 1.000000] [506.207437 1562.240672 1.000000] [0.001367 -0.001083 1.000000]\n",
      "[3653.743945 -682.417532 1.000000] [443.676812 1605.334783 1.000000] [-0.000371 -0.000520 1.000000]\n",
      "w:\n",
      "[[0.000001 -0.000000 -0.000253]\n",
      " [-0.000000 0.000001 -0.000296]\n",
      " [-0.000253 -0.000296 1.000000]]\n",
      "k:\n",
      "[[1125.116493 -0.000000 431.034633]\n",
      " [0.000000 1125.116493 504.160763]\n",
      " [0.000000 0.000000 1.000000]]\n"
     ]
    }
   ],
   "source": [
    "# Three squares, vanishing points, zero skew matrix\n",
    "\n",
    "coords_3_squares = [[[405,356],[707,437],[254,578],[612,699]],\\\n",
    "          [[518,41],[830,154],[516,299],[767,428]],\\\n",
    "          [[54,107],[396,32],[125,380],[404,296]]]\n",
    "\n",
    "A = np.zeros((3,4))\n",
    "for k in range(A.shape[0]):\n",
    "    coords = coords_3_squares[k]\n",
    "    p1,p2,l_inf = find_l_infinity(coords)\n",
    "    print(p1,p2,l_inf)\n",
    "    A[k] = np.asarray([p1[0]*p2[0]+p1[1]*p2[1],1,p1[0]+p2[0],p1[1]+p2[1]])\n",
    "\n",
    "_,_,vh = np.linalg.svd(A)\n",
    "x = vh.T[:,-1]\n",
    "w = np.asarray([[x[0],0,x[2]],[0,x[0],x[3]],[x[2],x[3],x[1]]])\n",
    "print('w:')\n",
    "print(np.divide(w,w[-1,-1]))\n",
    "kkt = np.linalg.pinv(w)\n",
    "kkt = np.divide(kkt,kkt[-1,-1])\n",
    "# print(kkt)\n",
    "# ev,_ = np.linalg.eig(kkt)\n",
    "# k = np.linalg.cholesky(kkt)\n",
    "k = build_k_matrix(kkt,resize_f=1)\n",
    "print('k:')\n",
    "print(k)"
   ]
  },
  {
   "cell_type": "code",
   "execution_count": 9,
   "metadata": {},
   "outputs": [
    {
     "name": "stdout",
     "output_type": "stream",
     "text": [
      "h:\n",
      "[[0.581296 -0.452284 307.688764]\n",
      " [0.114919 0.278911 217.267392]\n",
      " [-0.000166 -0.000406 1.000000]]\n",
      "h:\n",
      "[[0.499679 0.281182 340.121099]\n",
      " [0.242598 0.867774 -214.082872]\n",
      " [-0.000420 0.000555 1.000000]]\n",
      "h:\n",
      "[[1.284459 0.331015 -327.782342]\n",
      " [-0.239901 1.197695 -75.140639]\n",
      " [0.000352 0.000746 1.000000]]\n",
      "w:\n",
      "[[0.000001 0.000000 -0.000258]\n",
      " [0.000000 0.000001 -0.000245]\n",
      " [-0.000258 -0.000245 1.000000]]\n",
      "k:\n",
      "[[1169.399958 -12.714654 440.191030]\n",
      " [0.000000 1118.516856 381.380424]\n",
      " [0.000000 0.000000 1.000000]]\n"
     ]
    }
   ],
   "source": [
    "# Three squares, homography, full K matrix\n",
    "\n",
    "coords_3_squares = [[[405,356],[707,437],[254,578],[612,699]],\\\n",
    "          [[518,41],[830,154],[516,299],[767,428]],\\\n",
    "          [[54,107],[396,32],[125,380],[404,296]]]\n",
    "\n",
    "actual_coords_3_squares = [[[250,225],[625,225],[250,600],[625,600]],\\\n",
    "                 [[250,225],[625,225],[250,600],[625,600]],\\\n",
    "                 [[250,225],[625,225],[250,600],[625,600]]]\n",
    "X = np.zeros((6,6))\n",
    "for i in range(len(coords_3_squares)):\n",
    "    A = np.zeros((8,9))\n",
    "    coords = coords_3_squares[i]\n",
    "    actual_coords = actual_coords_3_squares[i]\n",
    "    for j in range(len(coords)):\n",
    "        x_,y_ = coords[j][0],coords[j][1]\n",
    "        x,y = actual_coords[j][0],actual_coords[j][1]\n",
    "        A[2*j,:3] = [-x,-y,-1]\n",
    "        A[2*j,-3:] = [x*x_,y*x_,x_]\n",
    "        A[2*j+1,3:6] = [-x,-y,-1]\n",
    "        A[2*j+1,-3:] = [x*y_,y*y_,y_]\n",
    "\n",
    "    _,_,vh = np.linalg.svd(A)\n",
    "    h = vh.T[:,-1].reshape(3,3)\n",
    "    h = np.divide(h,h[-1,-1])\n",
    "    print('h:')\n",
    "    print(h)\n",
    "    h1 = h[:,0];h2 = h[:,1]\n",
    "    X[2*i] = np.asarray([h1[0]*h2[0], h1[1]*h2[1], h1[2]*h2[2], h1[0]*h2[1]+h1[1]*h2[0],\n",
    "                        h1[0]*h2[2]+h1[2]*h2[0], h1[1]*h2[2]+h1[2]*h2[1]])\n",
    "    t2 = np.asarray([h2[0]*h2[0], h2[1]*h2[1], h2[2]*h2[2], h2[0]*h2[1]+h2[1]*h2[0],\n",
    "                        h2[0]*h2[2]+h2[2]*h2[0], h2[1]*h2[2]+h2[2]*h2[1]])\n",
    "    t1 = np.asarray([h1[0]*h1[0], h1[1]*h1[1], h1[2]*h1[2], h1[0]*h1[1]+h1[1]*h1[0],\n",
    "                        h1[0]*h1[2]+h1[2]*h1[0], h1[1]*h1[2]+h1[2]*h1[1]])\n",
    "    X[2*i+1] = t1-t2\n",
    "\n",
    "_,_,vh = np.linalg.svd(X[:5])\n",
    "x = vh.T[:,-1]\n",
    "w = np.asarray([[x[0],x[3],x[4]],[x[3],x[1],x[5]],[x[4],x[5],x[2]]])\n",
    "print('w:')\n",
    "print(np.divide(w,w[-1,-1]))\n",
    "kkt = np.linalg.pinv(w)\n",
    "kkt = np.divide(kkt,kkt[-1,-1])\n",
    "k = build_k_matrix(kkt,resize_f=1)\n",
    "print('k:')\n",
    "print(k)"
   ]
  },
  {
   "cell_type": "code",
   "execution_count": 10,
   "metadata": {},
   "outputs": [
    {
     "name": "stdout",
     "output_type": "stream",
     "text": [
      "h:\n",
      "[[0.581296 -0.452284 307.688764]\n",
      " [0.114919 0.278911 217.267392]\n",
      " [-0.000166 -0.000406 1.000000]]\n",
      "h:\n",
      "[[0.499679 0.281182 340.121099]\n",
      " [0.242598 0.867774 -214.082872]\n",
      " [-0.000420 0.000555 1.000000]]\n",
      "w:\n",
      "[[0.000001 0.000000 -0.000248]\n",
      " [0.000000 0.000001 -0.000233]\n",
      " [-0.000248 -0.000233 1.000000]]\n",
      "k:\n",
      "[[1152.413636 0.000000 405.675108]\n",
      " [0.000000 1152.413636 381.487970]\n",
      " [0.000000 0.000000 1.000000]]\n"
     ]
    }
   ],
   "source": [
    "# Three squares, homography, zero skew\n",
    "\n",
    "coords_3_squares = [[[405,356],[707,437],[254,578],[612,699]],\\\n",
    "          [[518,41],[830,154],[516,299],[767,428]]]\n",
    "\n",
    "actual_coords_3_squares = [[[250,225],[625,225],[250,600],[625,600]],\\\n",
    "                 [[250,225],[625,225],[250,600],[625,600]]]\n",
    "\n",
    "X = np.zeros((4,4))\n",
    "for i in range(len(coords_3_squares)):\n",
    "    A = np.zeros((8,9))\n",
    "    coords = coords_3_squares[i]\n",
    "    actual_coords = actual_coords_3_squares[i]\n",
    "    for j in range(len(coords)):\n",
    "        x_,y_ = coords[j][0],coords[j][1]\n",
    "        x,y = actual_coords[j][0],actual_coords[j][1]\n",
    "        A[2*j,:3] = [-x,-y,-1]\n",
    "        A[2*j,-3:] = [x*x_,y*x_,x_]\n",
    "        A[2*j+1,3:6] = [-x,-y,-1]\n",
    "        A[2*j+1,-3:] = [x*y_,y*y_,y_]\n",
    "\n",
    "    _,_,vh = np.linalg.svd(A)\n",
    "    h = vh.T[:,-1].reshape(3,3)\n",
    "    h = np.divide(h,h[-1,-1])\n",
    "    print('h:')\n",
    "    print(h)\n",
    "    h1 = h[:,0];h2 = h[:,1]\n",
    "    X[2*i] = np.asarray([h1[0]*h2[0] + h1[1]*h2[1], h1[2]*h2[2], h1[0]*h2[2]+h1[2]*h2[0], h1[1]*h2[2]+h1[2]*h2[1]])\n",
    "    t2 = np.asarray([h2[0]*h2[0] + h2[1]*h2[1], h2[2]*h2[2], h2[0]*h2[2]+h2[2]*h2[0], h2[1]*h2[2]+h2[2]*h2[1]])\n",
    "    t1 = np.asarray([h1[0]*h1[0] + h1[1]*h1[1], h1[2]*h1[2], h1[0]*h1[2]+h1[2]*h1[0], h1[1]*h1[2]+h1[2]*h1[1]])\n",
    "    X[2*i+1] = t1-t2\n",
    "\n",
    "_,_,vh = np.linalg.svd(X)\n",
    "x = vh.T[:,-1]\n",
    "w = np.asarray([[x[0],0,x[2]],[0,x[0],x[3]],[x[2],x[3],x[1]]])\n",
    "print('w:')\n",
    "print(np.divide(w,w[-1,-1]))\n",
    "kkt = np.linalg.pinv(w)\n",
    "kkt = np.divide(kkt,kkt[-1,-1])\n",
    "k = build_k_matrix(kkt,resize_f=1)\n",
    "print('k:')\n",
    "print(k)"
   ]
  },
  {
   "cell_type": "code",
   "execution_count": 11,
   "metadata": {},
   "outputs": [
    {
     "name": "stdout",
     "output_type": "stream",
     "text": [
      "w:\n",
      "[[0.000000 -0.000000 -0.000019]\n",
      " [-0.000000 0.000000 -0.000011]\n",
      " [-0.000019 -0.000011 1.000000]]\n",
      "k:\n",
      "[[12552.451149 0.000000 3341.706338]\n",
      " [0.000000 12552.451149 1893.510183]\n",
      " [0.000000 0.000000 1.000000]]\n"
     ]
    }
   ],
   "source": [
    "# Redmi Box, vanishing points, zero skew\n",
    "\n",
    "from itertools import combinations \n",
    "combs = list(combinations(np.arange(3), 2))\n",
    "\n",
    "coords_redmi = [[[3144,2104],[5400,960],[3120,3168],[5240,1976]],\\\n",
    "                [[3120,3168],[3144,2104],[5240,1976],[5400,960]],\\\n",
    "                [[3120,3168],[1360,1616],[3144,2104],[1856,1072]]]\n",
    "\n",
    "A = np.zeros((3,4))\n",
    "v = np.asarray([find_vanishing_point(coords) for coords in coords_redmi])\n",
    "\n",
    "for i,comb in enumerate(combs):\n",
    "    p1,p2 = v[comb[0]],v[comb[1]]\n",
    "    A[i] = np.asarray([p1[0]*p2[0]+p1[1]*p2[1],1,p1[0]+p2[0],p1[1]+p2[1]])\n",
    "\n",
    "_,_,vh = np.linalg.svd(A)\n",
    "x = vh.T[:,-1]\n",
    "w = np.asarray([[x[0],0,x[2]],[0,x[0],x[3]],[x[2],x[3],x[1]]])\n",
    "print('w:')\n",
    "print(np.divide(w,w[-1,-1]))\n",
    "kkt = np.linalg.pinv(w)\n",
    "kkt = np.divide(kkt,kkt[-1,-1])\n",
    "k = build_k_matrix(kkt,resize_f=1)\n",
    "print('k:')\n",
    "print(k)"
   ]
  },
  {
   "cell_type": "code",
   "execution_count": 12,
   "metadata": {},
   "outputs": [
    {
     "name": "stdout",
     "output_type": "stream",
     "text": [
      "w:\n",
      "[[0.000000 -0.000000 -0.000019]\n",
      " [-0.000000 0.000000 -0.000047]\n",
      " [-0.000019 -0.000047 1.000000]]\n",
      "k:\n",
      "[[9354.474082 0.000000 2445.751660]\n",
      " [0.000000 9354.474082 6172.104969]\n",
      " [0.000000 0.000000 1.000000]]\n"
     ]
    }
   ],
   "source": [
    "# Room Corner, vanishing points, zero skew\n",
    "\n",
    "from itertools import combinations \n",
    "combs = list(combinations(np.arange(3), 2))\n",
    "\n",
    "coords_corner = [[[2013,2090],[3707,792],[2002,4576],[3762,3861]],\\\n",
    "                [[2013,2090],[143,1309],[2002,4576],[99,4158]],\\\n",
    "                [[2002,4576],[2013,2090],[2321,5522],[2321,5710]]]\n",
    "\n",
    "A = np.zeros((3,4))\n",
    "v = np.asarray([find_vanishing_point(coords) for coords in coords_corner])\n",
    "\n",
    "for i,comb in enumerate(combs):\n",
    "    p1,p2 = v[comb[0]],v[comb[1]]\n",
    "    A[i] = np.asarray([p1[0]*p2[0]+p1[1]*p2[1],1,p1[0]+p2[0],p1[1]+p2[1]])\n",
    "\n",
    "_,_,vh = np.linalg.svd(A)\n",
    "x = vh.T[:,-1]\n",
    "w = np.asarray([[x[0],0,x[2]],[0,x[0],x[3]],[x[2],x[3],x[1]]])\n",
    "print('w:')\n",
    "print(np.divide(w,w[-1,-1]))\n",
    "kkt = np.linalg.pinv(w)\n",
    "kkt = np.divide(kkt,kkt[-1,-1])\n",
    "k = build_k_matrix(kkt,resize_f=1)\n",
    "print('k:')\n",
    "print(k)"
   ]
  }
 ],
 "metadata": {
  "kernelspec": {
   "display_name": "Python 3",
   "language": "python",
   "name": "python3"
  },
  "language_info": {
   "codemirror_mode": {
    "name": "ipython",
    "version": 3
   },
   "file_extension": ".py",
   "mimetype": "text/x-python",
   "name": "python",
   "nbconvert_exporter": "python",
   "pygments_lexer": "ipython3",
   "version": "3.6.7"
  }
 },
 "nbformat": 4,
 "nbformat_minor": 2
}
